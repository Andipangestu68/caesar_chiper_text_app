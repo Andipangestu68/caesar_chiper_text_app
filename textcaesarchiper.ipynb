{
 "cells": [
  {
   "cell_type": "code",
   "execution_count": null,
   "metadata": {},
   "outputs": [],
   "source": [
    "def caesar_cipher_encrypt(text, shift):\n",
    "    \"\"\"\n",
    "    Mengenkripsi teks menggunakan Caesar Cipher.\n",
    "\n",
    "    :param text: Teks yang akan dienkripsi\n",
    "    :param shift: Jumlah pergeseran huruf\n",
    "    :return: Teks terenkripsi\n",
    "    \"\"\"\n",
    "    encrypted_text = \"\"\n",
    "    for char in text:\n",
    "        if char.isalpha():\n",
    "            # Memeriksa apakah karakter adalah huruf\n",
    "            start = ord('A') if char.isupper() else ord('a')\n",
    "            encrypted_text += chr((ord(char) - start + shift) % 26 + start)\n",
    "        else:\n",
    "            # Jika bukan huruf, tambahkan karakter apa adanya\n",
    "            encrypted_text += char\n",
    "    return encrypted_text\n",
    "\n",
    "def caesar_cipher_decrypt(text, shift):\n",
    "    \"\"\"\n",
    "    Mendekripsi teks yang dienkripsi dengan Caesar Cipher.\n",
    "\n",
    "    :param text: Teks yang akan didekripsi\n",
    "    :param shift: Jumlah pergeseran huruf (sama dengan yang digunakan saat enkripsi)\n",
    "    :return: Teks asli\n",
    "    \"\"\"\n",
    "    return caesar_cipher_encrypt(text, -shift)\n",
    "\n",
    "# Contoh penggunaan\n",
    "if __name__ == \"__main__\":\n",
    "    while True:\n",
    "        print(\"\\nCaesar Cipher Program\")\n",
    "        print(\"1. Enkripsi teks\")\n",
    "        print(\"2. Dekripsi teks\")\n",
    "        print(\"3. Keluar\")\n",
    "        choice = input(\"Pilih opsi (1/2/3): \")\n",
    "\n",
    "        if choice == \"1\":\n",
    "            plain_text = input(\"Masukkan teks yang akan dienkripsi: \")\n",
    "            shift_value = int(input(\"Masukkan nilai pergeseran: \"))\n",
    "            encrypted = caesar_cipher_encrypt(plain_text, shift_value)\n",
    "            print(f\"Teks terenkripsi: {encrypted}\")\n",
    "\n",
    "        elif choice == \"2\":\n",
    "            encrypted_text = input(\"Masukkan teks yang akan didekripsi: \")\n",
    "            shift_value = int(input(\"Masukkan nilai pergeseran: \"))\n",
    "            decrypted = caesar_cipher_decrypt(encrypted_text, shift_value)\n",
    "            print(f\"Teks terdekripsi: {decrypted}\")\n",
    "\n",
    "        elif choice == \"3\":\n",
    "            print(\"Keluar dari program.\")\n",
    "            break\n",
    "\n",
    "        else:\n",
    "            print(\"Pilihan tidak valid. Silakan coba lagi.\")\n"
   ]
  }
 ],
 "metadata": {
  "kernelspec": {
   "display_name": "Python 3",
   "language": "python",
   "name": "python3"
  },
  "language_info": {
   "codemirror_mode": {
    "name": "ipython",
    "version": 3
   },
   "file_extension": ".py",
   "mimetype": "text/x-python",
   "name": "python",
   "nbconvert_exporter": "python",
   "pygments_lexer": "ipython3",
   "version": "3.12.3"
  }
 },
 "nbformat": 4,
 "nbformat_minor": 2
}
